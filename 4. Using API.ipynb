{
 "cells": [
  {
   "cell_type": "markdown",
   "source": [
    "###  Using API to run the simulation"
   ],
   "metadata": {
    "collapsed": false
   }
  },
  {
   "cell_type": "markdown",
   "source": [
    "We use a strongly defined HTTP API protocol to communicate with a C12 backend (get and receive the data). This tutorial will briefly present basic API calls that can be used for communication with the C12 backend. Our APIs are the low-level access to our simulator, and could be made compatible with other quantum computer frameworks and interfaces.\n",
    "\n",
    "To run each API, we need to pass the unique bearer token that will be used to verify the user's right to access C12's system.\n",
    "\n",
    "For communication with C12's system, it is possible to use the API library that encapsulates the HTTP communication with the C12 system using the python request module.\n",
    "\n",
    "To start using it, we need to create an instance of the Request class, as shown in the following code snippet."
   ],
   "metadata": {
    "collapsed": false
   }
  },
  {
   "cell_type": "code",
   "execution_count": 2,
   "outputs": [],
   "source": [
    "# Installing the c12simulator-clients package (for more details see jupyter 1)\n",
    "import os\n",
    "from c12simulator_clients.api.client import Request\n",
    "\n",
    "TOKEN = os.getenv(\"C12_TOKEN\")\n",
    "\n",
    "\n",
    "# Create the request instance\n",
    "# Constructor of the Request class also accepts the verbose parameter, which can be use for more detailed output of the methods.\n",
    "\n",
    "request = Request(auth_token=TOKEN, verbose=False)"
   ],
   "metadata": {
    "collapsed": false
   }
  },
  {
   "cell_type": "markdown",
   "source": [
    "#### Run the simulation\n",
    "\n",
    "The method `start_job()` is used to start the simulation. It has the following arguments:\n",
    "- `qasm_str`: QASM string with quantum circuit\n",
    "- `shots`:  Number of trials for the simulation\n",
    "- `result`: what is desired output (statevector, counts, density_matrix)\n",
    "- `backend_name`: the name of the backend to run on"
   ],
   "metadata": {
    "collapsed": false
   }
  },
  {
   "cell_type": "code",
   "execution_count": 3,
   "outputs": [
    {
     "name": "stdout",
     "output_type": "stream",
     "text": [
      "('9866fd4a-793d-4641-a264-9f4c1bff96d6', 'OPENQASM 2.0;\\ninclude \"qelib1.inc\";\\ngate iswap q0,q1 { s q0; s q1; h q0; cx q0,q1; cx q1,q0; h q1; }\\nqreg q[2];\\nry(-pi/2) q[1];\\niswap q[0],q[1];\\nrx(pi) q[0];\\nry(-pi/2) q[1];\\niswap q[0],q[1];\\nry(-pi/2) q[0];\\nrz(-pi/2) q[0];\\nrz(pi/2) q[1];\\nry(-pi/2) q[1];\\n')\n"
     ]
    }
   ],
   "source": [
    "from qiskit import QuantumCircuit\n",
    "\n",
    "circuit = QuantumCircuit(2)\n",
    "circuit.h(0)\n",
    "circuit.cx(0, 1)\n",
    "\n",
    "\n",
    "qasm_str = circuit.qasm()\n",
    "res = request.start_job(\n",
    "    qasm_str=qasm_str, shots=100, result=\"density_matrix\", backend_name=\"c12sim-iswap\"\n",
    ")\n",
    "\n",
    "# The function returns the UUID and QasmStr of started job or HTTP error in case of problems\n",
    "print(res)\n",
    "job_uuid = res[0]\n"
   ],
   "metadata": {
    "collapsed": false
   }
  },
  {
   "cell_type": "markdown",
   "source": [
    "#### Get the results of a simulation\n",
    "\n",
    "To get the simulation results, we can use the `get_job_result()` method that accepts one mandatory argument (job UUID string) and two optional ones.\n",
    "- `timeout`, which represents the number of seconds that the function will wait for job completion\n",
    "- `wait`, number of seconds between each check if the job is finished\n",
    "\n",
    "If we do not specify a timeout argument the function will run until the result is obtained"
   ],
   "metadata": {
    "collapsed": false
   }
  },
  {
   "cell_type": "code",
   "execution_count": 11,
   "outputs": [
    {
     "name": "stdout",
     "output_type": "stream",
     "text": [
      "{'status': 'FINISHED', 'results': {'density_matrix': [['(0.5000897437714247+0j)', '(-5.274116340186169e-05+5.116335835910993e-05j)', '(-5.6216557959268616e-05+1.063111113359385e-05j)', '(0.49999998325729417+4.014865527146583e-06j)'], ['(-5.274116340186169e-05-5.116335835910993e-05j)', '(1.0796701237753112e-08+0j)', '(7.016440672111406e-09+4.63023039361485e-09j)', '(-5.273128619880364e-05-5.115459853004587e-05j)'], ['(-5.6216557959268616e-05-1.063111113359385e-05j)', '(7.016440672111406e-09-4.63023039361485e-09j)', '(6.5454689952985004e-09+0j)', '(-5.620638236640756e-05-1.0629654290917945e-05j)'], ['(0.49999998325729417-4.014865527146583e-06j)', '(-5.273128619880364e-05+5.115459853004587e-05j)', '(-5.620638236640756e-05+1.0629654290917945e-05j)', '(0.4999102388864063+0j)']]}, 'errors': ''}\n"
     ]
    }
   ],
   "source": [
    "job_result = request.get_job_result(job_uuid, timeout=120, wait=5)\n",
    "print(job_result)"
   ],
   "metadata": {
    "collapsed": false
   }
  },
  {
   "cell_type": "markdown",
   "source": [
    "#### Get the status of the job"
   ],
   "metadata": {
    "collapsed": false
   }
  },
  {
   "cell_type": "code",
   "execution_count": null,
   "outputs": [],
   "source": [
    "status = request.get_job_status(job_uuid=job_uuid)\n",
    "print(status)"
   ],
   "metadata": {
    "collapsed": false
   }
  },
  {
   "cell_type": "markdown",
   "source": [
    "#### Get all jobs\n",
    "\n",
    "Method `get_user_jobs()` can be used for obtaining information about all the jobs that have been run on the system for the user whose token is passed to the Request instance.\n",
    "\n",
    "The method has two arguments:\n",
    "- `limit`: an integer that represents the number of results to obtain\n",
    "- `offset`: an integer that represents the offset from the first result\n",
    "\n",
    "Using these two values, one can obtain the pagination, where the offset represents a page and limits the number of results per page. Method returns an array with results.\n"
   ],
   "metadata": {
    "collapsed": false
   }
  },
  {
   "cell_type": "code",
   "execution_count": 14,
   "outputs": [
    {
     "name": "stdout",
     "output_type": "stream",
     "text": [
      "1\n",
      "{'uuid': '133c7598-6fe6-4067-bb12-1ab444a6dee2', 'time': '2023-03-23T16:54:26.284840', 'status': 'finished', 'options': {'shots': 1024, 'result': 'counts,statevector'}, 'task': 'OPENQASM 2.0;\\ninclude \"qelib1.inc\";\\nqreg q[2];\\nry(pi/2) q[0];\\nrx(-1.8157749899217606) q[1];\\nrz(-pi) q[1];\\ncrx(pi) q[0],q[1];\\nrz(pi/2) q[0];\\nry(pi) q[0];\\nrz(-pi) q[1];\\nrx(-1.3258176636680312) q[1];\\n', 'task_orig': 'OPENQASM 2.0;\\ninclude \"qelib1.inc\";\\nqreg q[2];\\nh q[0];\\ncx q[0],q[1];\\n'}\n",
      "2\n",
      "{'uuid': '7ba5a2f4-9d34-4964-91d1-ceeee047be53', 'time': '2023-03-23T16:59:49.771009', 'status': 'finished', 'options': {'shots': 10000, 'result': 'counts,statevector'}, 'task': 'OPENQASM 2.0;\\ninclude \"qelib1.inc\";\\nqreg q[2];\\nry(-pi/2) q[0];\\nrz(-pi) q[0];\\nrx(1.815774989921761) q[1];\\ncrx(pi) q[0],q[1];\\nrz(pi/2) q[0];\\nry(-pi/2) q[0];\\nrz(-2.3713483251754366) q[1];\\nry(0.3447011797986471) q[1];\\nrz(-2.3713483251754415) q[1];\\ncrx(pi) q[0],q[1];\\nrz(-pi/2) q[0];\\nry(-pi/2) q[0];\\nrz(-pi) q[1];\\nrx(-1.3258176636680312) q[1];\\n', 'task_orig': 'OPENQASM 2.0;\\ninclude \"qelib1.inc\";\\nqreg q[2];\\nh q[1];\\nh q[0];\\nx q[1];\\nx q[0];\\ncz q[0],q[1];\\nx q[0];\\nx q[1];\\nh q[0];\\nh q[1];\\nz q[0];\\nz q[1];\\ncz q[0],q[1];\\nh q[0];\\nh q[1];\\n'}\n",
      "3\n",
      "{'uuid': 'c57a3a22-0b7c-4050-866e-642eba781c55', 'time': '2023-03-24T09:23:07.558614', 'status': 'finished', 'options': {'shots': 1024, 'result': 'counts,statevector'}, 'task': 'OPENQASM 2.0;\\ninclude \"qelib1.inc\";\\nqreg q[2];\\nry(pi/2) q[0];\\nrx(-1.8157749899217606) q[1];\\nrz(-pi) q[1];\\ncrx(pi) q[0],q[1];\\nrz(pi/2) q[0];\\nry(pi) q[0];\\nrz(-pi) q[1];\\nrx(-1.3258176636680312) q[1];\\n', 'task_orig': 'OPENQASM 2.0;\\ninclude \"qelib1.inc\";\\nqreg q[2];\\nh q[0];\\ncx q[0],q[1];\\n'}\n",
      "4\n",
      "{'uuid': 'd2a151c6-2289-48a8-b25b-8576b955dc7a', 'time': '2023-03-24T09:29:43.859128', 'status': 'finished', 'options': {'shots': 1024, 'result': 'counts,statevector'}, 'task': 'OPENQASM 2.0;\\ninclude \"qelib1.inc\";\\nqreg q[2];\\nry(pi/2) q[0];\\nrx(-1.8157749899217606) q[1];\\nrz(-pi) q[1];\\ncrx(pi) q[0],q[1];\\nrz(pi/2) q[0];\\nry(pi) q[0];\\nrz(-pi) q[1];\\nrx(-1.3258176636680312) q[1];\\n', 'task_orig': 'OPENQASM 2.0;\\ninclude \"qelib1.inc\";\\nqreg q[2];\\nh q[0];\\ncx q[0],q[1];\\n'}\n",
      "5\n",
      "{'uuid': '0d103fe1-72f0-4e6f-9b89-55e79bbc4609', 'time': '2023-03-24T09:30:33.626702', 'status': 'finished', 'options': {'shots': 1024, 'result': 'counts,statevector'}, 'task': 'OPENQASM 2.0;\\ninclude \"qelib1.inc\";\\nqreg q[2];\\nry(pi/2) q[0];\\nrx(-1.8157749899217606) q[1];\\nrz(-pi) q[1];\\ncrx(pi) q[0],q[1];\\nrz(pi/2) q[0];\\nry(pi) q[0];\\nrz(-pi) q[1];\\nrx(-1.3258176636680312) q[1];\\n', 'task_orig': 'OPENQASM 2.0;\\ninclude \"qelib1.inc\";\\nqreg q[2];\\nh q[0];\\ncx q[0],q[1];\\n'}\n",
      "6\n",
      "{'uuid': '30019586-2dee-492e-bd82-db12b9ce3173', 'time': '2023-03-24T09:33:57.984830', 'status': 'finished', 'options': {'shots': 1024, 'result': 'counts,statevector'}, 'task': 'OPENQASM 2.0;\\ninclude \"qelib1.inc\";\\nqreg q[2];\\nry(pi/2) q[0];\\nrx(-1.8157749899217606) q[1];\\nrz(-pi) q[1];\\ncrx(pi) q[0],q[1];\\nrz(pi/2) q[0];\\nry(pi) q[0];\\nrz(-pi) q[1];\\nrx(-1.3258176636680312) q[1];\\n', 'task_orig': 'OPENQASM 2.0;\\ninclude \"qelib1.inc\";\\nqreg q[2];\\nh q[0];\\ncx q[0],q[1];\\n'}\n",
      "7\n",
      "{'uuid': '4778c1c6-348e-4a56-ab94-513331e2cb3a', 'time': '2023-03-24T09:34:08.050467', 'status': 'finished', 'options': {'shots': 1024, 'result': 'counts,statevector'}, 'task': 'OPENQASM 2.0;\\ninclude \"qelib1.inc\";\\nqreg q[3];\\nry(pi/2) q[0];\\nrx(-1.8157749899217606) q[1];\\nrz(-pi) q[1];\\ncrx(pi) q[0],q[1];\\nrz(pi/2) q[0];\\nry(pi) q[0];\\nrz(-pi) q[1];\\nrx(-1.3258176636680312) q[1];\\nry(-pi/2) q[2];\\n', 'task_orig': 'OPENQASM 2.0;\\ninclude \"qelib1.inc\";\\nqreg q[3];\\nh q[0];\\ncx q[0],q[1];\\nx q[2];\\nh q[2];\\n'}\n",
      "8\n",
      "{'uuid': '6b1e95b6-93c9-4a3a-b0a1-89d00a9fcb70', 'time': '2023-03-24T09:40:08.093035', 'status': 'finished', 'options': {'shots': 100, 'result': 'density_matrix'}, 'task': 'OPENQASM 2.0;\\ninclude \"qelib1.inc\";\\nqreg q[2];\\nry(pi/2) q[0];\\nrx(-1.8157749899217606) q[1];\\nrz(-pi) q[1];\\ncrx(pi) q[0],q[1];\\nrz(pi/2) q[0];\\nry(pi) q[0];\\nrz(-pi) q[1];\\nrx(-1.3258176636680312) q[1];\\n', 'task_orig': 'OPENQASM 2.0;\\ninclude \"qelib1.inc\";\\nqreg q[2];\\nh q[0];\\ncx q[0],q[1];\\n'}\n",
      "9\n",
      "{'uuid': '014bf781-3203-4be1-a0ae-099cad99ed08', 'time': '2023-03-24T09:43:25.867813', 'status': 'finished', 'options': {'shots': 100, 'result': 'density_matrix'}, 'task': 'OPENQASM 2.0;\\ninclude \"qelib1.inc\";\\nqreg q[2];\\nry(pi/2) q[0];\\nrx(-1.8157749899217606) q[1];\\nrz(-pi) q[1];\\ncrx(pi) q[0],q[1];\\nrz(pi/2) q[0];\\nry(pi) q[0];\\nrz(-pi) q[1];\\nrx(-1.3258176636680312) q[1];\\n', 'task_orig': 'OPENQASM 2.0;\\ninclude \"qelib1.inc\";\\nqreg q[2];\\nh q[0];\\ncx q[0],q[1];\\n'}\n",
      "10\n",
      "{'uuid': 'fa9bc1b6-804e-48b2-9dc1-94533ac11771', 'time': '2023-03-24T09:45:05.666940', 'status': 'finished', 'options': {'shots': 100, 'result': 'density_matrix'}, 'task': 'OPENQASM 2.0;\\ninclude \"qelib1.inc\";\\nqreg q[2];\\nry(pi/2) q[0];\\nrx(-1.8157749899217606) q[1];\\nrz(-pi) q[1];\\ncrx(pi) q[0],q[1];\\nrz(pi/2) q[0];\\nry(pi) q[0];\\nrz(-pi) q[1];\\nrx(-1.3258176636680312) q[1];\\n', 'task_orig': 'OPENQASM 2.0;\\ninclude \"qelib1.inc\";\\nqreg q[2];\\nh q[0];\\ncx q[0],q[1];\\n'}\n",
      "11\n",
      "{'uuid': 'd6964a98-daba-495a-b720-3738b9c0886c', 'time': '2023-03-24T09:50:16.447660', 'status': 'finished', 'options': {'shots': 100, 'result': 'density_matrix'}, 'task': 'OPENQASM 2.0;\\ninclude \"qelib1.inc\";\\nqreg q[2];\\nry(pi/2) q[0];\\nrx(-1.8157749899217606) q[1];\\nrz(-pi) q[1];\\ncrx(pi) q[0],q[1];\\nrz(pi/2) q[0];\\nry(pi) q[0];\\nrz(-pi) q[1];\\nrx(-1.3258176636680312) q[1];\\n', 'task_orig': 'OPENQASM 2.0;\\ninclude \"qelib1.inc\";\\nqreg q[2];\\nh q[0];\\ncx q[0],q[1];\\n'}\n"
     ]
    }
   ],
   "source": [
    "number_of_results = 5  # Limit parameter, number of records to retrieve\n",
    "offset = 0\n",
    "count = 1\n",
    "while True:\n",
    "    jobs = request.get_user_jobs(limit=number_of_results, offset=offset)\n",
    "\n",
    "    for job in jobs:\n",
    "        print(f\"{count:}\")\n",
    "        print(job)\n",
    "        count += 1\n",
    "\n",
    "    if len(jobs) < number_of_results:\n",
    "        break\n",
    "\n",
    "    offset += number_of_results"
   ],
   "metadata": {
    "collapsed": false
   }
  },
  {
   "cell_type": "markdown",
   "source": [
    "#### Get information about a specific job\n",
    "\n",
    "Using the method `get_job()` it is possible to retrieve the information about the specific job with a given UUID."
   ],
   "metadata": {
    "collapsed": false
   }
  },
  {
   "cell_type": "code",
   "execution_count": 17,
   "outputs": [
    {
     "name": "stdout",
     "output_type": "stream",
     "text": [
      "{'uuid': '7cb69177-cd38-4a7f-8816-5d9c8e5d8388', 'time': '2023-03-24T10:51:18.155981', 'status': 'running', 'options': {'shots': 100, 'result': 'density_matrix'}, 'task': 'OPENQASM 2.0;\\ninclude \"qelib1.inc\";\\nqreg q[2];\\nry(pi/2) q[0];\\nrx(-1.8157749899217606) q[1];\\nrz(-pi) q[1];\\ncrx(pi) q[0],q[1];\\nrz(pi/2) q[0];\\nry(pi) q[0];\\nrz(-pi) q[1];\\nrx(-1.3258176636680312) q[1];\\n', 'task_orig': 'OPENQASM 2.0;\\ninclude \"qelib1.inc\";\\nqreg q[2];\\nh q[0];\\ncx q[0],q[1];\\n'}\n"
     ]
    }
   ],
   "source": [
    "job_data = request.get_job(job_uuid)\n",
    "print(job_data)"
   ],
   "metadata": {
    "collapsed": false
   }
  },
  {
   "cell_type": "code",
   "execution_count": null,
   "outputs": [],
   "source": [],
   "metadata": {
    "collapsed": false
   }
  }
 ],
 "metadata": {
  "kernelspec": {
   "display_name": "Python 3",
   "language": "python",
   "name": "python3"
  },
  "language_info": {
   "codemirror_mode": {
    "name": "ipython",
    "version": 2
   },
   "file_extension": ".py",
   "mimetype": "text/x-python",
   "name": "python",
   "nbconvert_exporter": "python",
   "pygments_lexer": "ipython2",
   "version": "2.7.6"
  }
 },
 "nbformat": 4,
 "nbformat_minor": 0
}
