{
 "cells": [
  {
   "attachments": {},
   "cell_type": "markdown",
   "metadata": {
    "collapsed": false
   },
   "source": [
    "### C12 Emulator\n",
    "\n",
    "\n",
    "C12 emulator is the first quantum emulator of the future <b>C12</b> quantum computers.\n",
    "Based on experimentally measured <b>C12</b> qubit, it offers an emulator with more qubits and more availability than our quantum processors in development.\n",
    "It provides tools for composing quantum circuits, running simulations and comparing both the ideal and realistic outcomes.\n",
    "\n",
    "\n",
    "It aims to be a companion tool for developing gate-based quantum circuits, testing them in realistic environment & studying their scaling law.\n",
    "\n",
    "If you find any bugs or if you have any suggestions feel free to send us a mail to <u>  <i> emulator@c12qe.com</i></u>.\n",
    "\n",
    "We are so happy and proud to let you experiment with a software that imitates new generation of quantum computers.\n",
    "\n",
    "### About C12 emulator\n",
    "The <b>C12</b> emulator is a software that imitates our real quantum machine in development.\n",
    "It is made on top of the Qiskit library with a proprietary noise model corresponding to our system and with the physical parameters of real devices.\n",
    "This offers realistic noisy simulations of runs on real devices.\n",
    "All the errors that occur during the execution of a quantum circuit have been modelled in the <b>C12</b> emulator.\n",
    "\n",
    "Quantum errors are due to decoherence channels.\n",
    "This first version includes decoherence from charge noise, from phonon noise and from relaxation of the qubit through its quantum bus, a microwave resonator.\n",
    "C12 emulator offers additional features like mid-circuit measurement and noisy initialization.\n",
    "The quantum gate set of the current configuration is $R_X$, $R_Y$ and $R_Z$ for the 1Q gates and ISWAP for the 2Q gate.\n",
    "Any other gate will be transpiled into this basis gate set.\n",
    "\n",
    "Our physical parameters are based on the first quantum chip that <b>C12</b> will fabricate & release.\n",
    "For the moment, we offer one fixed configuration of the <b>C12</b> emulator.\n",
    "The chosen configuration leads to the following fidelities.\n",
    "\n",
    "<table align=\"center\" border=\"1\">\n",
    "<tr> <th> Gate </th> <th> Fidelity (%) </th> <th> Error rate </th> </tr>\n",
    "<tr> <th> $R_X$ </th> <td> 99.9989 </td> <td> 10<sup>-3</sup> </td> </tr>\n",
    "<tr> <th> $R_Y$ </th> <td> 99.9989 </td> <td> 10<sup>-3</sup> </td> </tr>\n",
    "<tr> <th> $R_Z$ </th> <td> 100 </td> <td>0  </td> </tr>\n",
    "<tr> <th> iSWAP </th> <td> 99.6446 </td> <td> 3.5 * 10<sup>-1</sup> </td> </tr>\n",
    "</table>\n",
    "\n",
    "### C12 Jupyter hub\n",
    "\n",
    "\n",
    "These notebooks allow quantum developers to learn, try, and utilize C12 emulator using Qiskit as the software development kit.\n",
    "JupyterLab has already preinstalled and preconfigured all Python packages necessary to use our backend.\n",
    "\n",
    "After successful login, the user can use the full JupyterLab capabilities. The users can save their Jupyther notebooks and work in their local folder, but it is crucial to notice that no files can be kept inside the folder that contains tutorials (docs/ folder). This folder is a read-only folder, so it is not possible to save custom-made files there, as well as it is not possible to change the notebooks.\n",
    "\n",
    "\n",
    "The tutorials can be seen on the left side of the initial JupyterLab screen, and they are divided into five notebooks:\n",
    "\n",
    " 1. The first one is devoted to the basics of the Qiskit library, mainly creating the quantum circuits and performing the perfect simulation using Qiskit's Aer package. Also, we will briefly cover the OpenQASM format and its properties.\n",
    "\n",
    "2. The second one shows the usage of the c12simulator-clients package for running the quantum circuits on the <b>C12</b> backend and obtaining the simulation results. The notebook also shows one example using a popular quantum algorithm: Grover's algorithm.\n",
    "\n",
    "3. The third notebook explains how we can retrieve the information from the jobs that have already been run. Besides that, we will see how to run multiple circuits simultaneously.\n",
    "\n",
    "4. The fourth notebook shows how to run circuits using simple API calls. This notebook demonstrates low-level communication with the <b>C12</b> backend.\n",
    "\n",
    "5. The fifth notebook demonstrates how to get the mid-circuit states using barriers.\n",
    "\n",
    "\n",
    "\n",
    "\n"
   ]
  },
  {
   "attachments": {},
   "cell_type": "markdown",
   "metadata": {
    "collapsed": false
   },
   "source": [
    "### Some useful information\n",
    "\n",
    "1. To logout you have to go to menu File -> Log out. It is important to notice that logging out won't shut down your server! It will remain active until a specified amount of inactivity time. So, please close your server before logging out.\n",
    "2. To close a server. Go to File -> Hub Control Panel and then click Stop my Server button."
   ]
  },
  {
   "cell_type": "code",
   "execution_count": null,
   "metadata": {
    "collapsed": false
   },
   "outputs": [],
   "source": []
  }
 ],
 "metadata": {
  "kernelspec": {
   "display_name": "Python 3",
   "language": "python",
   "name": "python3"
  },
  "language_info": {
   "codemirror_mode": {
    "name": "ipython",
    "version": 2
   },
   "file_extension": ".py",
   "mimetype": "text/x-python",
   "name": "python",
   "nbconvert_exporter": "python",
   "pygments_lexer": "ipython2",
   "version": "2.7.6"
  }
 },
 "nbformat": 4,
 "nbformat_minor": 0
}
