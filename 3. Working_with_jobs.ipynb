{
 "cells": [
  {
   "cell_type": "markdown",
   "metadata": {},
   "source": [
    "### Working with a jobs\n",
    "\n",
    "The job class obtained after running a QuantumCircuit has interesting properties that can be used."
   ]
  },
  {
   "cell_type": "code",
   "execution_count": 23,
   "metadata": {
    "collapsed": false,
    "jupyter": {
     "outputs_hidden": false
    }
   },
   "outputs": [
    {
     "data": {
      "text/html": [
       "<pre style=\"word-wrap: normal;white-space: pre;background: #fff0;line-height: 1.1;font-family: &quot;Courier New&quot;,Courier,monospace\">     ┌───┐     \n",
       "q_0: ┤ H ├──■──\n",
       "     └───┘┌─┴─┐\n",
       "q_1: ─────┤ X ├\n",
       "          └───┘</pre>"
      ],
      "text/plain": [
       "     ┌───┐     \n",
       "q_0: ┤ H ├──■──\n",
       "     └───┘┌─┴─┐\n",
       "q_1: ─────┤ X ├\n",
       "          └───┘"
      ]
     },
     "execution_count": 23,
     "metadata": {},
     "output_type": "execute_result"
    }
   ],
   "source": [
    "import os\n",
    "from c12_callisto_clients.user_configs import UserConfigs\n",
    "from c12_callisto_clients.qiskit_back.c12sim_provider import C12SimProvider\n",
    "from qiskit import QuantumCircuit\n",
    "TOKEN = os.getenv(\"C12_TOKEN\")\n",
    "configs = UserConfigs.parse_obj({\"token\" : TOKEN})\n",
    "\n",
    "c12_simulator_provider = C12SimProvider(configs)\n",
    "c12_simulator_backend = c12_simulator_provider.get_backend('c12sim-iswap')\n",
    "\n",
    "\n",
    "circuit = QuantumCircuit(2)\n",
    "circuit.h(0)\n",
    "circuit.cx(0, 1)\n",
    "\n",
    "circuit.draw()"
   ]
  },
  {
   "cell_type": "markdown",
   "metadata": {},
   "source": [
    "Two main methods available for each Job instance are job_id() and status().\n",
    "\n",
    "1. `job_id()` method returns the unique identifier of a job as a UUID4 string (a universally unique identifier (UUID), version 4,  is a 36-character alphanumeric random generated string). This id can be used for later assessment of the job properties.\n",
    "\n",
    "2. `status()` method is used to get the status of a job execution as an instance of JobStatus class. Available statuses are:\n",
    "    - `QUEUED` = Job is queued. It waits for execution\n",
    "    - `RUNNING` = Job is currently running.\n",
    "    - `CANCELLED` = Job has been canceled.\n",
    "    - `DONE` = Job has been successfully done.\n",
    "    - `ERROR` = There has been an error during the execution of a job.\n",
    "\n",
    "The status of a running job can be changed depending on the current state of job execution.\n"
   ]
  },
  {
   "cell_type": "code",
   "execution_count": 24,
   "metadata": {
    "collapsed": false,
    "jupyter": {
     "outputs_hidden": false
    }
   },
   "outputs": [
    {
     "name": "stdout",
     "output_type": "stream",
     "text": [
      "Job id: 023e408a-bb92-4f48-a5c5-2336bcc8b21e\n",
      "Status: JobStatus.RUNNING\n"
     ]
    }
   ],
   "source": [
    "c12_job = c12_simulator_backend.run(circuit)\n",
    "print(f\"Job id: {c12_job.job_id()}\") # Get a job UUID\n",
    "print(f\"Status: {c12_job.status()}\")  # Get a current job status"
   ]
  },
  {
   "cell_type": "markdown",
   "metadata": {},
   "source": [
    "The result of a job execution can be obtained with the `result()` method. This method can have one optional argument (timeout). The `timeout` argument specifies how long the method will wait for the execution of the task. If the time limit is exceeded, the `C12SimJobError` exception is raised. If we do not specify this argument, its default value is None, meaning the method will block until the simulation is finished.\n",
    "\n",
    "Another way to get the results is to check the job status periodically until it is `DONE`  and then call the `result()` function."
   ]
  },
  {
   "cell_type": "code",
   "execution_count": 25,
   "metadata": {
    "collapsed": false,
    "jupyter": {
     "outputs_hidden": false
    }
   },
   "outputs": [
    {
     "name": "stdout",
     "output_type": "stream",
     "text": [
      "023e408a-bb92-4f48-a5c5-2336bcc8b21e: JobStatus.RUNNING\n",
      "023e408a-bb92-4f48-a5c5-2336bcc8b21e: JobStatus.DONE\n",
      "{'00': 487, '01': 1, '10': 2, '11': 534}\n"
     ]
    }
   ],
   "source": [
    "from qiskit.providers import JobStatus\n",
    "import time\n",
    "job_final_states = [JobStatus.DONE, JobStatus.ERROR, JobStatus.CANCELLED]\n",
    "c12_job_id = c12_job.job_id()\n",
    "while True:\n",
    "    job_status = c12_job.status()\n",
    "    print(f'{c12_job_id}: {job_status}')\n",
    "    if job_status in job_final_states:\n",
    "        break\n",
    "    time.sleep(5) # Wait 5 s\n",
    "\n",
    "if c12_job.status() == JobStatus.DONE:\n",
    "    c12_result = c12_job.result()\n",
    "    print(c12_result.get_counts())"
   ]
  },
  {
   "cell_type": "code",
   "execution_count": 26,
   "metadata": {
    "collapsed": false,
    "jupyter": {
     "outputs_hidden": false
    }
   },
   "outputs": [
    {
     "name": "stdout",
     "output_type": "stream",
     "text": [
      "{'00': 517, '01': 2, '10': 1, '11': 504}\n"
     ]
    }
   ],
   "source": [
    "# Running a job that will block until finished\n",
    "c12_job = c12_simulator_backend.run(circuit)\n",
    "c12_result = c12_job.result()\n",
    "if c12_job.status() == JobStatus.DONE:\n",
    "    print(c12_result.get_counts())"
   ]
  },
  {
   "cell_type": "code",
   "execution_count": 17,
   "metadata": {
    "collapsed": false,
    "jupyter": {
     "outputs_hidden": false
    }
   },
   "outputs": [],
   "source": [
    "# Getting a job result with a timeout argument specified\n",
    "from c12simulator_clients.qiskit_back.exceptions import C12SimJobError\n",
    "c12_job = c12_simulator_backend.run(circuit)\n",
    "\n",
    "try:\n",
    "    c12_result = c12_job.result(timeout=15) # it will raise a C12SimJobError as it won't be finished in 15s\n",
    "except C12SimJobError:\n",
    "    print(\"Timeout!\")\n",
    "    print(f\" Last status: {c12_job.status()}\")"
   ]
  },
  {
   "cell_type": "markdown",
   "metadata": {},
   "source": [
    "### Getting previous jobs\n",
    "\n",
    "Next, an extremely useful functionality is the possibility to obtain all jobs run on the system by a specific user. Using this functionality, the user can get the results of old jobs.\n",
    "\n",
    "This can be achieved by calling the `jobs()` function on the backend instance. This function accepts two arguments: `limit` and `offset`. We can specify how many jobs we want to get with a `limit` argument. Likewise, we can set the `offset` from the first job with an offset argument. With these arguments, pagination is easily achieved."
   ]
  },
  {
   "cell_type": "code",
   "execution_count": 18,
   "metadata": {
    "collapsed": false,
    "jupyter": {
     "outputs_hidden": false
    }
   },
   "outputs": [
    {
     "name": "stdout",
     "output_type": "stream",
     "text": [
      "1: a7fadc44-22f7-42a1-9056-cd05f510a279 Status: JobStatus.DONE\n",
      "2: 7b646f18-198d-40d7-a3f1-cb87cb6cc7a7 Status: JobStatus.DONE\n",
      "3: c62fe639-e53a-49ec-bc15-c0d7284d723a Status: JobStatus.DONE\n",
      "4: 56497e19-2105-484f-a6e6-23f29445030e Status: JobStatus.DONE\n",
      "5: d369dceb-2bf0-42ae-9fc0-eba869e388a2 Status: JobStatus.DONE\n",
      "6: 72fc139b-7d58-429a-806d-9030b90fd155 Status: JobStatus.DONE\n",
      "7: 0281d8f6-7ba7-49e8-97d7-8e0ee2b6da32 Status: JobStatus.DONE\n",
      "8: 259c317d-8a14-433e-a6d0-4595da57bbc8 Status: JobStatus.DONE\n",
      "9: 901a0c54-47bd-4caf-9130-dadb11ffc020 Status: JobStatus.DONE\n",
      "10: 41d70035-4510-42a1-b8a9-20128bae359f Status: JobStatus.DONE\n"
     ]
    }
   ],
   "source": [
    "number_of_records = 10\n",
    "offset = 0\n",
    "counter = 1\n",
    "\n",
    "jobs = c12_simulator_backend.jobs(number_of_records, offset)\n",
    "\n",
    "for job in jobs:\n",
    "    print(f\"{counter}: {job.job_id()} Status: {job.status()}\")\n",
    "    counter += 1\n",
    "\n"
   ]
  },
  {
   "cell_type": "markdown",
   "metadata": {},
   "source": [
    "For each job, it is possible to get the circuit sent to the simulator for execution. But, it is even possible to get the transpiled version of this circuit to see what the circuit has been run after the transpilation process."
   ]
  },
  {
   "cell_type": "code",
   "execution_count": 19,
   "metadata": {
    "collapsed": false,
    "jupyter": {
     "outputs_hidden": false
    }
   },
   "outputs": [
    {
     "data": {
      "image/png": "[encoded data removed]",
      "text/plain": [
       "<Figure size 287.294x200.667 with 1 Axes>"
      ]
     },
     "execution_count": 19,
     "metadata": {},
     "output_type": "execute_result"
    }
   ],
   "source": [
    "# Also it is possible to retrieve the circuit that has been run for specific job\n",
    "first_job = jobs[1]\n",
    "first_job_qasm = first_job.get_qasm() # Get OpenQASM string\n",
    "first_job_circuit = first_job.get_circuit()\n",
    "first_job_circuit.draw('mpl')"
   ]
  },
  {
   "cell_type": "code",
   "execution_count": 20,
   "metadata": {
    "collapsed": false,
    "jupyter": {
     "outputs_hidden": false
    }
   },
   "outputs": [
    {
     "data": {
      "image/png": "[encoded data removed]",
      "text/plain": [
       "<Figure size 788.961x200.667 with 1 Axes>"
      ]
     },
     "execution_count": 20,
     "metadata": {},
     "output_type": "execute_result"
    }
   ],
   "source": [
    "# Getting the transpiled circuit\n",
    "# NOTICE: It can be possible that due tu bug in Qiskit's transpile function some circuits are wrongly converted to QASM string\n",
    "\n",
    "first_job_transpiled_qasm = first_job.get_qasm(transpiled=True) # Get transpiled OpenQASM string\n",
    "first_job_transpiled_circuit = first_job.get_circuit(transpiled=True)\n",
    "first_job_transpiled_circuit.draw('mpl')"
   ]
  },
  {
   "cell_type": "markdown",
   "metadata": {},
   "source": [
    "#### Query job by UUID\n",
    "\n",
    "Jobs can be searched by their UUID using the `get_job()` method."
   ]
  },
  {
   "cell_type": "code",
   "execution_count": 21,
   "metadata": {
    "collapsed": false,
    "jupyter": {
     "outputs_hidden": false
    }
   },
   "outputs": [
    {
     "name": "stdout",
     "output_type": "stream",
     "text": [
      "Job id : 7b646f18-198d-40d7-a3f1-cb87cb6cc7a7 JobStatus.DONE\n"
     ]
    }
   ],
   "source": [
    "# Jobs can be queried by theirs UUID\n",
    "job_uuid = first_job.job_id()\n",
    "search_job = c12_simulator_backend.get_job(job_uuid)\n",
    "\n",
    "print(f\"Job id : {search_job.job_id()} {search_job.status()}\")"
   ]
  },
  {
   "cell_type": "markdown",
   "metadata": {},
   "source": [
    "### Running multiple jobs at once\n",
    "\n",
    "The `run()` method of the backend class can also accept the list of QuantumCircuit. This can be an essential feature as it allows a user to run multiple circuits simultaneously and get an array of job instances as a result."
   ]
  },
  {
   "cell_type": "code",
   "execution_count": 22,
   "metadata": {
    "collapsed": false,
    "jupyter": {
     "outputs_hidden": false
    }
   },
   "outputs": [
    {
     "name": "stdout",
     "output_type": "stream",
     "text": [
      "Job id: 87cf6476-5366-4b97-be21-b038525e1b56 - >  JobStatus.RUNNING\n",
      "Job id: aa55dc98-b662-452c-b45b-15ff4145d066 - >  JobStatus.RUNNING\n",
      "[0.49906378+1.35518698e-21j 0.00067965-2.03294274e-21j\n",
      " 0.00106109+1.35518905e-21j 0.49919548-2.03294066e-21j]\n",
      "[0.24953264+6.77595519e-22j 0.00033982-1.01647441e-21j\n",
      " 0.00053055+6.77596554e-22j 0.24959849-1.01647337e-21j\n",
      " 0.24953114+6.77591464e-22j 0.00033982-1.01646833e-21j\n",
      " 0.00053055+6.77592499e-22j 0.24959699-1.01646729e-21j]\n"
     ]
    }
   ],
   "source": [
    "# Array where the circuits will be stored\n",
    "circuits_to_run = []\n",
    "\n",
    "# Creating the circuits\n",
    "circuit_1 = QuantumCircuit(2)\n",
    "circuit_1.h(0)\n",
    "circuit_1.cx(0, 1)\n",
    "\n",
    "circuit_2 = QuantumCircuit(3)\n",
    "circuit_2.h(0)\n",
    "circuit_2.cx(0, 1)\n",
    "circuit_2.x(2)\n",
    "circuit_2.h(2)\n",
    "\n",
    "circuits_to_run.append(circuit_1)\n",
    "circuits_to_run.append(circuit_2)\n",
    "\n",
    "# Running the jobs\n",
    "c12_jobs = c12_simulator_backend.run(circuits_to_run)\n",
    "\n",
    "# Printing the UUID of the jobs\n",
    "for job in c12_jobs:\n",
    "    print(f\"Job id: {job.job_id()} - >  {job.status()}\")\n",
    "\n",
    "# Waiting for the results\n",
    "for job in c12_jobs:\n",
    "    result = job.result()\n",
    "    print(result.get_statevector())"
   ]
  }
 ],
 "metadata": {
  "kernelspec": {
   "display_name": "Python 3 (ipykernel)",
   "language": "python",
   "name": "python3"
  },
  "language_info": {
   "codemirror_mode": {
    "name": "ipython",
    "version": 3
   },
   "file_extension": ".py",
   "mimetype": "text/x-python",
   "name": "python",
   "nbconvert_exporter": "python",
   "pygments_lexer": "ipython3",
   "version": "3.9.13"
  }
 },
 "nbformat": 4,
 "nbformat_minor": 4
}
